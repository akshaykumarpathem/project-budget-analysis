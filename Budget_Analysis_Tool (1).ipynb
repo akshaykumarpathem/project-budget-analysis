
{
 "cells": [
  {
   "cell_type": "markdown",
   "metadata": {},
   "source": [
    "# 💰 Project: Budgeting and Cost Analysis Tool\n",
    "This notebook demonstrates a professional-grade project budgeting tool designed using Python, Pandas, and Matplotlib.\n",
    "It supports detailed expense tracking, budget monitoring, and visual analytics to assist in decision-making for project managers."
   ]
  },
  {
   "cell_type": "code",
   "execution_count": null,
   "metadata": {},
   "outputs": [],
   "source": [
    "import pandas as pd\n",
    "import matplotlib.pyplot as plt\n",
    "\n",
    "# Load expense data from CSV\n",
    "df = pd.read_csv('project_expenses.csv')\n",
    "df['Date'] = pd.to_datetime(df['Date'])\n",
    "df.sort_values(by='Date', inplace=True)\n",
    "df.head()"
   ]
  },
  {
   "cell_type": "code",
   "execution_count": null,
   "metadata": {},
   "outputs": [],
   "source": [
    "# Compute total expenses by category\n",
    "category_totals = df.groupby('Category')['Amount'].sum().sort_values(ascending=False)\n",
    "category_totals"
   ]
  },
  {
   "cell_type": "code",
   "execution_count": null,
   "metadata": {},
   "outputs": [],
   "source": [
    "# Visualize total expenses by category\n",
    "plt.figure(figsize=(10,6))\n",
    "category_totals.plot(kind='bar', color='steelblue')\n",
    "plt.title('Total Expenses by Category')\n",
    "plt.xlabel('Expense Category')\n",
    "plt.ylabel('Amount in USD')\n",
    "plt.grid(True)\n",
    "plt.tight_layout()\n",
    "plt.show()"
   ]
  },
  {
   "cell_type": "code",
   "execution_count": null,
   "metadata": {},
   "outputs": [],
   "source": [
    "# Budget analysis and overrun alert system\n",
    "budget = 10000\n",
    "total_spent = df['Amount'].sum()\n",
    "remaining = budget - total_spent\n",
    "print(f"Total Budget: ${budget}")\n",
    "print(f"Total Spent: ${total_spent}")\n",
    "print(f"Remaining Budget: ${remaining}")\n",
    "\n",
    "if total_spent > 0.8 * budget:\n",
    "    print("⚠️ Budget Alert: Spending has exceeded 80% of the allocated budget.")\n",
    "else:\n",
    "    print("✅ Budget is within acceptable limits.")"
   ]
  }
 ],
 "metadata": {
  "kernelspec": {
   "display_name": "Python 3",
   "language": "python",
   "name": "python3"
  },
  "language_info": {
   "name": "python",
   "version": ""
  }
 },
 "nbformat": 4,
 "nbformat_minor": 2
}
